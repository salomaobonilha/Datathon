{
 "cells": [
  {
   "cell_type": "code",
   "execution_count": 1,
   "metadata": {},
   "outputs": [],
   "source": [
    "import pandas as pd"
   ]
  },
  {
   "cell_type": "code",
   "execution_count": 65,
   "metadata": {},
   "outputs": [
    {
     "data": {
      "text/html": [
       "<div>\n",
       "<style scoped>\n",
       "    .dataframe tbody tr th:only-of-type {\n",
       "        vertical-align: middle;\n",
       "    }\n",
       "\n",
       "    .dataframe tbody tr th {\n",
       "        vertical-align: top;\n",
       "    }\n",
       "\n",
       "    .dataframe thead th {\n",
       "        text-align: right;\n",
       "    }\n",
       "</style>\n",
       "<table border=\"1\" class=\"dataframe\">\n",
       "  <thead>\n",
       "    <tr style=\"text-align: right;\">\n",
       "      <th></th>\n",
       "      <th>Data Medicao</th>\n",
       "      <th>NUMERO DE DIAS COM PRECIP. PLUV, MENSAL (AUT)(número)</th>\n",
       "      <th>PRECIPITACAO TOTAL, MENSAL (AUT)(mm)</th>\n",
       "      <th>TEMPERATURA MEDIA, MENSAL (AUT)(°C)</th>\n",
       "      <th>Unnamed: 4</th>\n",
       "    </tr>\n",
       "  </thead>\n",
       "  <tbody>\n",
       "    <tr>\n",
       "      <th>0</th>\n",
       "      <td>2009-01-31</td>\n",
       "      <td>15.0</td>\n",
       "      <td>254,4</td>\n",
       "      <td>20,5</td>\n",
       "      <td>NaN</td>\n",
       "    </tr>\n",
       "    <tr>\n",
       "      <th>1</th>\n",
       "      <td>2009-02-28</td>\n",
       "      <td>17.0</td>\n",
       "      <td>141</td>\n",
       "      <td>21,7</td>\n",
       "      <td>NaN</td>\n",
       "    </tr>\n",
       "    <tr>\n",
       "      <th>2</th>\n",
       "      <td>2009-03-31</td>\n",
       "      <td>13.0</td>\n",
       "      <td>85,2</td>\n",
       "      <td>21</td>\n",
       "      <td>NaN</td>\n",
       "    </tr>\n",
       "    <tr>\n",
       "      <th>3</th>\n",
       "      <td>2009-04-30</td>\n",
       "      <td>6.0</td>\n",
       "      <td>24,4</td>\n",
       "      <td>18,4</td>\n",
       "      <td>NaN</td>\n",
       "    </tr>\n",
       "    <tr>\n",
       "      <th>4</th>\n",
       "      <td>2009-05-31</td>\n",
       "      <td>11.0</td>\n",
       "      <td>127</td>\n",
       "      <td>15,6</td>\n",
       "      <td>NaN</td>\n",
       "    </tr>\n",
       "  </tbody>\n",
       "</table>\n",
       "</div>"
      ],
      "text/plain": [
       "  Data Medicao  NUMERO DE DIAS COM PRECIP. PLUV, MENSAL (AUT)(número)  \\\n",
       "0   2009-01-31                                               15.0       \n",
       "1   2009-02-28                                               17.0       \n",
       "2   2009-03-31                                               13.0       \n",
       "3   2009-04-30                                                6.0       \n",
       "4   2009-05-31                                               11.0       \n",
       "\n",
       "  PRECIPITACAO TOTAL, MENSAL (AUT)(mm) TEMPERATURA MEDIA, MENSAL (AUT)(°C)  \\\n",
       "0                                254,4                                20,5   \n",
       "1                                  141                                21,7   \n",
       "2                                 85,2                                  21   \n",
       "3                                 24,4                                18,4   \n",
       "4                                  127                                15,6   \n",
       "\n",
       "   Unnamed: 4  \n",
       "0         NaN  \n",
       "1         NaN  \n",
       "2         NaN  \n",
       "3         NaN  \n",
       "4         NaN  "
      ]
     },
     "execution_count": 65,
     "metadata": {},
     "output_type": "execute_result"
    }
   ],
   "source": [
    "df = pd.read_csv('dados//dados_climaticos_2009_a_2023_bento_goncalves.csv', encoding='utf-8', skiprows=9,sep=';', float_precision='round_trip' )\n",
    "\n",
    "df.head()"
   ]
  },
  {
   "cell_type": "code",
   "execution_count": 66,
   "metadata": {},
   "outputs": [
    {
     "data": {
      "text/html": [
       "<div>\n",
       "<style scoped>\n",
       "    .dataframe tbody tr th:only-of-type {\n",
       "        vertical-align: middle;\n",
       "    }\n",
       "\n",
       "    .dataframe tbody tr th {\n",
       "        vertical-align: top;\n",
       "    }\n",
       "\n",
       "    .dataframe thead th {\n",
       "        text-align: right;\n",
       "    }\n",
       "</style>\n",
       "<table border=\"1\" class=\"dataframe\">\n",
       "  <thead>\n",
       "    <tr style=\"text-align: right;\">\n",
       "      <th></th>\n",
       "      <th>Data Medicao</th>\n",
       "      <th>NUMERO DE DIAS COM PRECIP. PLUV, MENSAL (AUT)(número)</th>\n",
       "      <th>PRECIPITACAO TOTAL, MENSAL (AUT)(mm)</th>\n",
       "      <th>TEMPERATURA MEDIA, MENSAL (AUT)(°C)</th>\n",
       "    </tr>\n",
       "  </thead>\n",
       "  <tbody>\n",
       "    <tr>\n",
       "      <th>0</th>\n",
       "      <td>2009-01-31</td>\n",
       "      <td>15.0</td>\n",
       "      <td>254,4</td>\n",
       "      <td>20,5</td>\n",
       "    </tr>\n",
       "    <tr>\n",
       "      <th>1</th>\n",
       "      <td>2009-02-28</td>\n",
       "      <td>17.0</td>\n",
       "      <td>141</td>\n",
       "      <td>21,7</td>\n",
       "    </tr>\n",
       "    <tr>\n",
       "      <th>2</th>\n",
       "      <td>2009-03-31</td>\n",
       "      <td>13.0</td>\n",
       "      <td>85,2</td>\n",
       "      <td>21</td>\n",
       "    </tr>\n",
       "    <tr>\n",
       "      <th>3</th>\n",
       "      <td>2009-04-30</td>\n",
       "      <td>6.0</td>\n",
       "      <td>24,4</td>\n",
       "      <td>18,4</td>\n",
       "    </tr>\n",
       "    <tr>\n",
       "      <th>4</th>\n",
       "      <td>2009-05-31</td>\n",
       "      <td>11.0</td>\n",
       "      <td>127</td>\n",
       "      <td>15,6</td>\n",
       "    </tr>\n",
       "  </tbody>\n",
       "</table>\n",
       "</div>"
      ],
      "text/plain": [
       "  Data Medicao  NUMERO DE DIAS COM PRECIP. PLUV, MENSAL (AUT)(número)  \\\n",
       "0   2009-01-31                                               15.0       \n",
       "1   2009-02-28                                               17.0       \n",
       "2   2009-03-31                                               13.0       \n",
       "3   2009-04-30                                                6.0       \n",
       "4   2009-05-31                                               11.0       \n",
       "\n",
       "  PRECIPITACAO TOTAL, MENSAL (AUT)(mm) TEMPERATURA MEDIA, MENSAL (AUT)(°C)  \n",
       "0                                254,4                                20,5  \n",
       "1                                  141                                21,7  \n",
       "2                                 85,2                                  21  \n",
       "3                                 24,4                                18,4  \n",
       "4                                  127                                15,6  "
      ]
     },
     "execution_count": 66,
     "metadata": {},
     "output_type": "execute_result"
    }
   ],
   "source": [
    "df = df.drop([\"Unnamed: 4\"], axis=1)\n",
    "df.head()"
   ]
  },
  {
   "cell_type": "code",
   "execution_count": 67,
   "metadata": {},
   "outputs": [],
   "source": [
    "df = df.rename(columns={\"Data Medicao\":\"data_medicao\", \"NUMERO DE DIAS COM PRECIP. PLUV, MENSAL (AUT)(número)\":\"numero_dias_precipacao_pluv_mensal\",\"PRECIPITACAO TOTAL, MENSAL (AUT)(mm)\":\"precipicatao_total_mm\",\"TEMPERATURA MEDIA, MENSAL (AUT)(°C)\":\"temperatura_media_mensal\"})"
   ]
  },
  {
   "cell_type": "code",
   "execution_count": 68,
   "metadata": {},
   "outputs": [],
   "source": [
    "df = df.set_index(\"data_medicao\")"
   ]
  },
  {
   "cell_type": "code",
   "execution_count": 71,
   "metadata": {},
   "outputs": [
    {
     "name": "stdout",
     "output_type": "stream",
     "text": [
      "<class 'pandas.core.frame.DataFrame'>\n",
      "Index: 180 entries, 2009-01-31 to 2023-12-31\n",
      "Data columns (total 3 columns):\n",
      " #   Column                              Non-Null Count  Dtype  \n",
      "---  ------                              --------------  -----  \n",
      " 0   numero_dias_precipacao_pluv_mensal  178 non-null    float64\n",
      " 1   precipicatao_total_mm               164 non-null    object \n",
      " 2   temperatura_media_mensal            175 non-null    object \n",
      "dtypes: float64(1), object(2)\n",
      "memory usage: 5.6+ KB\n"
     ]
    }
   ],
   "source": [
    "df.info()"
   ]
  },
  {
   "cell_type": "code",
   "execution_count": 72,
   "metadata": {},
   "outputs": [
    {
     "data": {
      "text/plain": [
       "data_medicao\n",
       "2009-01-31    20,5\n",
       "2009-02-28    21,7\n",
       "2009-03-31      21\n",
       "2009-04-30    18,4\n",
       "2009-05-31    15,6\n",
       "Name: temperatura_media_mensal, dtype: object"
      ]
     },
     "execution_count": 72,
     "metadata": {},
     "output_type": "execute_result"
    }
   ],
   "source": [
    "df_temperatura_media_mensal = df[\"temperatura_media_mensal\"]\n",
    "df_temperatura_media_mensal.head()\n",
    "\n"
   ]
  },
  {
   "cell_type": "code",
   "execution_count": 73,
   "metadata": {},
   "outputs": [
    {
     "data": {
      "text/plain": [
       "data_medicao\n",
       "2009-01-31    15.0\n",
       "2009-02-28    17.0\n",
       "2009-03-31    13.0\n",
       "2009-04-30     6.0\n",
       "2009-05-31    11.0\n",
       "Name: numero_dias_precipacao_pluv_mensal, dtype: float64"
      ]
     },
     "execution_count": 73,
     "metadata": {},
     "output_type": "execute_result"
    }
   ],
   "source": [
    "df_numero_dias_precipacao_pluv_mensal = df[\"numero_dias_precipacao_pluv_mensal\"]\n",
    "\n",
    "df_numero_dias_precipacao_pluv_mensal.head()"
   ]
  },
  {
   "cell_type": "code",
   "execution_count": 74,
   "metadata": {},
   "outputs": [
    {
     "data": {
      "text/plain": [
       "data_medicao\n",
       "2009-01-31    254,4\n",
       "2009-02-28      141\n",
       "2009-03-31     85,2\n",
       "2009-04-30     24,4\n",
       "2009-05-31      127\n",
       "Name: precipicatao_total_mm, dtype: object"
      ]
     },
     "execution_count": 74,
     "metadata": {},
     "output_type": "execute_result"
    }
   ],
   "source": [
    "df_precipicatao_total_mm = df[\"precipicatao_total_mm\"]\n",
    "\n",
    "df_precipicatao_total_mm.head()"
   ]
  },
  {
   "cell_type": "code",
   "execution_count": 55,
   "metadata": {},
   "outputs": [],
   "source": [
    "df_temperatura_media_mensal.to_csv('dados//tratados//temperatura_media_mensal.csv')\n",
    "df_numero_dias_precipacao_pluv_mensal.to_csv('dados//tratados//numero_dias_precipacao_pluv_mensal.csv')\n",
    "df_precipicatao_total_mm.to_csv('dados//tratados//precipicatao_total_mm.csv')"
   ]
  },
  {
   "cell_type": "code",
   "execution_count": 75,
   "metadata": {},
   "outputs": [
    {
     "name": "stdout",
     "output_type": "stream",
     "text": [
      "<class 'pandas.core.frame.DataFrame'>\n",
      "Index: 180 entries, 2009-01-31 to 2023-12-31\n",
      "Data columns (total 3 columns):\n",
      " #   Column                              Non-Null Count  Dtype  \n",
      "---  ------                              --------------  -----  \n",
      " 0   numero_dias_precipacao_pluv_mensal  178 non-null    float64\n",
      " 1   precipicatao_total_mm               164 non-null    object \n",
      " 2   temperatura_media_mensal            175 non-null    object \n",
      "dtypes: float64(1), object(2)\n",
      "memory usage: 5.6+ KB\n"
     ]
    }
   ],
   "source": [
    "df.info()"
   ]
  },
  {
   "cell_type": "code",
   "execution_count": 80,
   "metadata": {},
   "outputs": [
    {
     "name": "stdout",
     "output_type": "stream",
     "text": [
      "<class 'pandas.core.series.Series'>\n",
      "Index: 180 entries, 2009-01-31 to 2023-12-31\n",
      "Series name: precipicatao_total_mm\n",
      "Non-Null Count  Dtype  \n",
      "--------------  -----  \n",
      "164 non-null    float64\n",
      "dtypes: float64(1)\n",
      "memory usage: 6.9+ KB\n"
     ]
    }
   ],
   "source": [
    "df_precipicatao_total_mm = df_precipicatao_total_mm.str.replace(\",\",\".\").astype({'precipicatao_total_mm':'float64'})\n",
    "\n",
    "df_precipicatao_total_mm.info()\n"
   ]
  },
  {
   "cell_type": "code",
   "execution_count": 81,
   "metadata": {},
   "outputs": [
    {
     "data": {
      "text/plain": [
       "<Axes: xlabel='data_medicao'>"
      ]
     },
     "execution_count": 81,
     "metadata": {},
     "output_type": "execute_result"
    },
    {
     "data": {
      "image/png": "[encoded data removed]",
      "text/plain": [
       "<Figure size 640x480 with 1 Axes>"
      ]
     },
     "metadata": {},
     "output_type": "display_data"
    }
   ],
   "source": [
    "#df_precipicatao_total_mm.plot()"
   ]
  }
 ],
 "metadata": {
  "kernelspec": {
   "display_name": "Python 3",
   "language": "python",
   "name": "python3"
  },
  "language_info": {
   "codemirror_mode": {
    "name": "ipython",
    "version": 3
   },
   "file_extension": ".py",
   "mimetype": "text/x-python",
   "name": "python",
   "nbconvert_exporter": "python",
   "pygments_lexer": "ipython3",
   "version": "3.12.4"
  }
 },
 "nbformat": 4,
 "nbformat_minor": 2
}
