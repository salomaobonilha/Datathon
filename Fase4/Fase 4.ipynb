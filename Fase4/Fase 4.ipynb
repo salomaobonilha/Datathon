{
 "cells": [
  {
   "cell_type": "code",
   "execution_count": 1,
   "metadata": {},
   "outputs": [],
   "source": [
    "import pandas as pd\n",
    "import matplotlib.pyplot as plt\n",
    "import seaborn as sns"
   ]
  },
  {
   "cell_type": "code",
   "execution_count": 3,
   "metadata": {},
   "outputs": [],
   "source": [
    "# Carrega os dados\n",
    "def carrega_dados():\n",
    "    df = pd.read_html('http://www.ipeadata.gov.br/ExibeSerie.aspx?module=m&serid=1650971490&oper=view', skiprows=1)[0]\n",
    "    df.columns = ['Data', 'Preco_Petroleo']\n",
    "    df['Preco_Petroleo'] = df['Preco_Petroleo'] / 100\n",
    "    df['Data'] = pd.to_datetime(df['Data'], format='%d/%m/%Y')\n",
    "    df = df.set_index('Data')\n",
    "    df = df.sort_values(by='Data', ascending=True)\n",
    "    return df"
   ]
  },
  {
   "cell_type": "code",
   "execution_count": null,
   "metadata": {},
   "outputs": [],
   "source": [
    "# Carrega os dados\n",
    "df = carrega_dados()\n",
    "\n",
    "# Filtra dados entre 01 de janeiro de 2005 e 31 de janeiro de 2025\n",
    "df = df.loc['2005-01-01':'2025-01-31']\n",
    "\n",
    "# Cria colunas de variação percentual\n",
    "df['Variação_Diaria'] = df['Preco_Petroleo'].pct_change() * 100\n",
    "\n",
    "# Cria média móvel para suavizar tendências\n",
    "df['Media_Movel_30'] = df['Preco_Petroleo'].rolling(window=30).mean()\n",
    "\n",
    "# Identifica grandes quedas (ex: crises)\n",
    "df['Queda_Relevante'] = df['Variação_Diaria'] < -5  # Quedas maiores que 5%"
   ]
  },
  {
   "cell_type": "code",
   "execution_count": 5,
   "metadata": {},
   "outputs": [],
   "source": [
    "# Cria uma coluna com fatos históricos relevantes\n",
    "fatos_historicos = {\n",
    "    '2008-09-15': 'Crise financeira global',\n",
    "    '2014-06-01': 'Queda do preço do petróleo devido ao aumento da produção dos EUA',\n",
    "    '2019-12-01': 'Início da pandemia de COVID-19',\n",
    "    '2022-02-24': 'Invasão da Ucrânia pela Rússia'\n",
    "}\n",
    "\n",
    "# Cria uma coluna com situações geopolíticas\n",
    "situacoes_geopoliticas = {\n",
    "    '2011-02-01': 'Primavera Árabe',\n",
    "    '2017-06-05': 'Crise diplomática do Catar',\n",
    "    '2020-03-08': 'Guerra de preços entre Rússia e Arábia Saudita',\n",
    "    '2023-10-07': 'Conflito Israel-Palestina'\n",
    "}\n",
    "\n",
    "# Cria uma coluna com demanda global por energia\n",
    "demanda_energia = {\n",
    "    '2005-01-01': 'Aumento da demanda por energia na China',\n",
    "    '2010-01-01': 'Exploração intensa de petróleo nos EUA',\n",
    "    '2015-01-01': 'Transição para energias renováveis',\n",
    "    '2020-04-01': 'Redução drástica da demanda devido à COVID-19',\n",
    "    '2022-01-01': 'Crise energética na Europa'\n",
    "}\n",
    "\n",
    "# Cria uma coluna com crises econômicas\n",
    "crises_economicas = {\n",
    "    '2008-09-15': 'Crise financeira global',\n",
    "    '2011-08-05': 'Rebaixamento do crédito dos EUA pela S&P',\n",
    "    '2015-06-29': 'Crise da dívida grega',\n",
    "    '2020-03-16': 'Colapso do mercado global devido à COVID-19'\n",
    "}\n",
    "\n",
    "# Cria uma coluna com inflação global\n",
    "inflacao_global = {\n",
    "    '2008-01-01': 'Alta inflação nos EUA devido à crise financeira',\n",
    "    '2011-06-01': 'Inflação elevada devido à recuperação econômica pós-crise',\n",
    "    '2022-03-01': 'Inflação global acelerada devido à guerra na Ucrânia'\n",
    "}\n",
    "\n",
    "# Cria uma coluna com produção mundial de petróleo\n",
    "producao_petroleo = {\n",
    "    '2005-01-01': 'Expansão da produção na OPEP',\n",
    "    '2010-01-01': 'Avanço do fracking nos EUA',\n",
    "    '2020-04-20': 'Queda histórica da produção devido à COVID-19'\n",
    "}\n",
    "\n",
    "# Cria uma coluna com estoque de petróleo nos EUA\n",
    "estoque_petroleo_eua = {\n",
    "    '2016-02-01': 'Nível recorde de estoques nos EUA',\n",
    "    '2020-05-01': 'Queda acentuada nos estoques devido à redução da produção'\n",
    "}\n",
    "\n",
    "# Cria uma coluna com taxa de juros dos EUA\n",
    "juros_eua = {\n",
    "    '2008-12-16': 'FED reduz taxa de juros para zero devido à crise financeira',\n",
    "    '2022-06-15': 'Aumento agressivo dos juros pelo FED para conter inflação'\n",
    "}\n",
    "\n",
    "# Cria uma coluna com preço do dólar\n",
    "preco_dolar = {\n",
    "    '2008-10-10': 'Dólar sobe devido à crise financeira',\n",
    "    '2022-09-01': 'Dólar atinge alta recorde devido ao aperto monetário nos EUA'\n",
    "}\n",
    "\n",
    "# Adiciona ao DataFrame\n",
    "df['Evento_Historico'] = df.index.astype(str).map(fatos_historicos).fillna('')\n",
    "df['Situacao_Geopolitica'] = df.index.astype(str).map(situacoes_geopoliticas).fillna('')\n",
    "df['Demanda_Energia'] = df.index.astype(str).map(demanda_energia).fillna('')\n",
    "df['Crise_Economica'] = df.index.astype(str).map(crises_economicas).fillna('')\n",
    "df['Inflacao_Global'] = df.index.astype(str).map(inflacao_global).fillna('')\n",
    "df['Producao_Petroleo'] = df.index.astype(str).map(producao_petroleo).fillna('')\n",
    "df['Estoque_Petroleo_EUA'] = df.index.astype(str).map(estoque_petroleo_eua).fillna('')\n",
    "df['Juros_EUA'] = df.index.astype(str).map(juros_eua).fillna('')\n",
    "df['Preco_Dolar'] = df.index.astype(str).map(preco_dolar).fillna('')"
   ]
  },
  {
   "cell_type": "code",
   "execution_count": 10,
   "metadata": {},
   "outputs": [],
   "source": [
    "# Exportar para Power BI (CSV)\n",
    "df.to_csv('preco_petroleo_powerbi.csv')"
   ]
  },
  {
   "cell_type": "code",
   "execution_count": null,
   "metadata": {},
   "outputs": [],
   "source": [
    "from IPython.display import FileLink\n",
    "FileLink('preco_petroleo_powerbi.csv')"
   ]
  }
 ],
 "metadata": {
  "kernelspec": {
   "display_name": "base",
   "language": "python",
   "name": "python3"
  },
  "language_info": {
   "codemirror_mode": {
    "name": "ipython",
    "version": 3
   },
   "file_extension": ".py",
   "mimetype": "text/x-python",
   "name": "python",
   "nbconvert_exporter": "python",
   "pygments_lexer": "ipython3",
   "version": "3.9.13"
  }
 },
 "nbformat": 4,
 "nbformat_minor": 2
}
