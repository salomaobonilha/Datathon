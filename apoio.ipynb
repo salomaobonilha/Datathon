{
 "cells": [
  {
   "cell_type": "code",
   "execution_count": 10,
   "id": "6316f534",
   "metadata": {},
   "outputs": [
    {
     "name": "stdout",
     "output_type": "stream",
     "text": [
      "Texto enviado para API (prompt usuário): An Insatiable drive to create high quality software\n",
      "A superb attention to detail and ability to spot mistakes\n",
      "Collaborator that thrives in a social atmosphere and actively contributes to improving processes, workflows, and communication\n",
      "Polyglot that readily picks up new languages, frameworks, and tools\n",
      "Help lead adoption of best practices in software testing within the team\n",
      "Excellent time management, goal setting and prioritization capability\n",
      "Advanced English\n",
      "Bachelor’s degree or equivalent experience 8-10 years\n",
      "In-depth knowledge of Scrum and Agile\n",
      "Strong written and verbal communication skills\n",
      "Understanding of modern web-based concepts (HTML, CSS, Angular, Databases, APIs, etc)\n",
      "Experience as a Product Owner\n",
      "Product Manager, or Business Analyst including writing user stories with acceptance criteria\n",
      "\n",
      "Informações de Uso de Tokens:\n",
      "  Tokens da entrada (prompt_token_count): 462\n",
      "  Tokens da saída (candidates_token_count): 139\n",
      "  Total de tokens (total_token_count): 601\n"
     ]
    },
    {
     "data": {
      "text/plain": [
       "'Foco na criação de software de alta qualidade. Habilidade para identificar erros. Habilidade de colaborar e aprimorar processos, fluxos de trabalho e comunicação. Capacidade de aprender rapidamente novas linguagens, frameworks e ferramentas. Liderança na adoção de melhores práticas em testes de software. Habilidade em gerenciamento de tempo, definição de metas e priorização. Conhecimento de conceitos web modernos (HTML, CSS, Angular, Databases, APIs, etc.). Experiência como Product Owner, Product Manager, ou Business Analyst, incluindo escrita de user stories com critérios de aceitação. Conhecimento aprofundado de Scrum e Agile. Fortes habilidades de comunicação escrita e verbal.\\n'"
      ]
     },
     "execution_count": 10,
     "metadata": {},
     "output_type": "execute_result"
    }
   ],
   "source": [
    "import apoio_tech\n",
    "\n",
    "\n",
    "apoio_tech.melhorar_descricao_vaga(\"\"\"An Insatiable drive to create high quality software\n",
    "A superb attention to detail and ability to spot mistakes\n",
    "Collaborator that thrives in a social atmosphere and actively contributes to improving processes, workflows, and communication\n",
    "Polyglot that readily picks up new languages, frameworks, and tools\n",
    "Help lead adoption of best practices in software testing within the team\n",
    "Excellent time management, goal setting and prioritization capability\n",
    "Advanced English\n",
    "Bachelor’s degree or equivalent experience 8-10 years\n",
    "In-depth knowledge of Scrum and Agile\n",
    "Strong written and verbal communication skills\n",
    "Understanding of modern web-based concepts (HTML, CSS, Angular, Databases, APIs, etc)\n",
    "Experience as a Product Owner\n",
    "Product Manager, or Business Analyst including writing user stories with acceptance criteria\n",
    "\"\"\")"
   ]
  }
 ],
 "metadata": {
  "kernelspec": {
   "display_name": ".venv",
   "language": "python",
   "name": "python3"
  },
  "language_info": {
   "codemirror_mode": {
    "name": "ipython",
    "version": 3
   },
   "file_extension": ".py",
   "mimetype": "text/x-python",
   "name": "python",
   "nbconvert_exporter": "python",
   "pygments_lexer": "ipython3",
   "version": "3.12.4"
  }
 },
 "nbformat": 4,
 "nbformat_minor": 5
}
