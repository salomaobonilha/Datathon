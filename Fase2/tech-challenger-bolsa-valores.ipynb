{
 "cells": [
  {
   "cell_type": "markdown",
   "metadata": {},
   "source": [
    "# Tech Challenger \n"
   ]
  },
  {
   "cell_type": "code",
   "execution_count": 1192,
   "metadata": {},
   "outputs": [],
   "source": [
    "#!pip install numpy==1.26.4 pandas seaborn matplotlib scikit-learn statsmodels PrettyTable termcolor pmdarima arch yfinance xgboost prophet ipywidgets\n",
    "\n"
   ]
  },
  {
   "cell_type": "code",
   "execution_count": null,
   "metadata": {},
   "outputs": [],
   "source": [
    "!pip  install ipywidgets\n"
   ]
  },
  {
   "cell_type": "code",
   "execution_count": 1194,
   "metadata": {},
   "outputs": [],
   "source": [
    "import arch\n",
    "import numpy as np\n",
    "import pandas as pd\n",
    "import seaborn as sns\n",
    "import xgboost as xgb\n",
    "import pmdarima as pm\n",
    "import scipy.stats as stats\n",
    "from prophet import Prophet\n",
    "from termcolor import colored\n",
    "import matplotlib.pyplot as plt\n",
    "from prettytable import PrettyTable\n",
    "from pmdarima.arima import auto_arima\n",
    "from statsmodels.tsa.arima.model import ARIMA\n",
    "from statsmodels.tsa.stattools import adfuller, kpss\n",
    "from statsmodels.tsa.seasonal import seasonal_decompose\n",
    "from statsmodels.graphics.tsaplots import plot_acf, plot_pacf\n",
    "from sklearn.metrics import mean_absolute_error, root_mean_squared_error, mean_absolute_percentage_error"
   ]
  },
  {
   "cell_type": "code",
   "execution_count": null,
   "metadata": {},
   "outputs": [],
   "source": [
    "df = pd.read_csv(\"Ibovespa 2004 a 2024.csv\", sep=',')\n",
    "df"
   ]
  },
  {
   "cell_type": "code",
   "execution_count": null,
   "metadata": {},
   "outputs": [],
   "source": [
    "df.head()"
   ]
  },
  {
   "cell_type": "code",
   "execution_count": null,
   "metadata": {},
   "outputs": [],
   "source": [
    "df.tail()"
   ]
  },
  {
   "cell_type": "code",
   "execution_count": null,
   "metadata": {},
   "outputs": [],
   "source": [
    "df.info()"
   ]
  },
  {
   "cell_type": "code",
   "execution_count": null,
   "metadata": {},
   "outputs": [],
   "source": [
    "df.describe()"
   ]
  },
  {
   "cell_type": "code",
   "execution_count": null,
   "metadata": {},
   "outputs": [],
   "source": [
    "serie_fechamento = pd.Series(data=df['Último'].values, index=pd.to_datetime(df['Data'], format='%d.%m.%Y'))\n",
    "serie_fechamento = serie_fechamento.sort_index(ascending=True)\n",
    "#serie_fechamento =  serie_fechamento.loc[pd.Timestamp('2014-01-02'):pd.Timestamp('2024-02-29')] #Obter os anos de 2014 a  fev 2024\n",
    "serie_fechamento"
   ]
  },
  {
   "cell_type": "markdown",
   "metadata": {},
   "source": [
    "Definindo tamanho padrão para plot do matplolib"
   ]
  },
  {
   "cell_type": "code",
   "execution_count": 1201,
   "metadata": {},
   "outputs": [],
   "source": [
    "from matplotlib import rcParams\n",
    "rcParams['figure.figsize'] = 12, 5"
   ]
  },
  {
   "cell_type": "code",
   "execution_count": 1202,
   "metadata": {},
   "outputs": [],
   "source": [
    "def plotarSerie(serie, titulo=\"Valores da bolsa de valores com base no fechamento diário\", legendas=[]):\n",
    "    serie.plot()\n",
    "    plt.title(titulo)\n",
    "    plt.xlabel('Data')\n",
    "    plt.ylabel('Valor em Real (R$)')\n",
    "    if legendas:\n",
    "        plt.legend(labels=legendas, loc='best')"
   ]
  },
  {
   "cell_type": "code",
   "execution_count": null,
   "metadata": {},
   "outputs": [],
   "source": [
    "plotarSerie(serie_fechamento)"
   ]
  },
  {
   "cell_type": "markdown",
   "metadata": {},
   "source": [
    "Média Móvel"
   ]
  },
  {
   "cell_type": "code",
   "execution_count": null,
   "metadata": {},
   "outputs": [],
   "source": [
    "serie_media_movel_anual = serie_fechamento.rolling(365).mean()\n",
    "serie_media_movel_anual.dropna().head()"
   ]
  },
  {
   "cell_type": "code",
   "execution_count": 1205,
   "metadata": {},
   "outputs": [],
   "source": [
    "def plotar_medias_moveis(serie, titulo ='Valores da bolsa de valores com média movel' ):\n",
    "    serie_media_movel_30 = serie.rolling(30-8).mean()\n",
    "    serie_media_movel_90 = serie.rolling(90-(3*8)).mean()\n",
    "    serie_media_movel_anual = serie.rolling(365-(12*8)).mean()\n",
    "    plotarSerie(serie)\n",
    "    plotarSerie(serie_media_movel_30)\n",
    "    plotarSerie(serie_media_movel_90)\n",
    "    plotarSerie(serie_media_movel_anual, titulo ,['Valor Real','Média movel 30 dias', 'Média Móvel 90 dias', 'Média Móvel Anual'])\n",
    "    plt.show()"
   ]
  },
  {
   "cell_type": "code",
   "execution_count": null,
   "metadata": {},
   "outputs": [],
   "source": [
    "plotar_medias_moveis(serie_fechamento)"
   ]
  },
  {
   "cell_type": "code",
   "execution_count": null,
   "metadata": {},
   "outputs": [],
   "source": [
    "serie_fechamento"
   ]
  },
  {
   "cell_type": "code",
   "execution_count": null,
   "metadata": {},
   "outputs": [],
   "source": [
    "stats.probplot(serie_fechamento, dist='norm', plot=plt)\n",
    "plt.show()"
   ]
  },
  {
   "cell_type": "code",
   "execution_count": null,
   "metadata": {},
   "outputs": [],
   "source": [
    "sns.histplot(serie_fechamento, kde=True)"
   ]
  },
  {
   "cell_type": "markdown",
   "metadata": {},
   "source": [
    "**Teste Shapiro-Wilk**\n",
    "\n",
    "### O que é o teste de Shapiro-Wilk?\n",
    "\n",
    "    O teste de Shapiro-Wilk é uma ferramenta estatística utilizada para avaliar se um conjunto de dados se ajusta a uma distribuição normal. A distribuição normal, também conhecida como curva em forma de sino, é uma das distribuições mais comuns em estatística e é frequentemente utilizada em diversos modelos estatísticos.\n",
    "\n",
    "#### Por que é importante testar a normalidade?\n",
    "\n",
    "    Muitos testes estatísticos assumem que os dados seguem uma distribuição normal. Se essa premissa não for verdadeira, os resultados do teste podem ser enganosos. Ao realizar o teste de Shapiro-Wilk, você verifica se essa suposição é razoável para seus dados.\n",
    "\n",
    "Critérios:\n",
    "\n",
    "Nível de significância de 0,05 ou 5% (mais utilizado)\n",
    "\n",
    "Valor de p < 0.05: Os dados provavelmente não são normalmente distribuídos.\n",
    "Valor de p ≥ 0.05: Não há evidência suficiente para rejeitar a hipótese de normalidade."
   ]
  },
  {
   "cell_type": "code",
   "execution_count": 1210,
   "metadata": {},
   "outputs": [],
   "source": [
    "def validacao_distribuicao(serie):\n",
    "    print(colored(':: Validação Distribuição (Shapiro-Wilk) ::', 'light_blue', attrs=[\"bold\"]))\n",
    "    e, p = stats.shapiro(serie)\n",
    "    print(f'Estátistica do teste: {e}')\n",
    "    print(f'p-valor: {p}')\n",
    "    if p > e:\n",
    "        print(colored('>> Distribuição Normal <<','green'))\n",
    "    else:\n",
    "        print(colored('Não há evidência suficiente para rejeitar a hipótese de normalidade','red'))\n"
   ]
  },
  {
   "cell_type": "code",
   "execution_count": null,
   "metadata": {},
   "outputs": [],
   "source": [
    "validacao_distribuicao(serie_fechamento)"
   ]
  },
  {
   "cell_type": "markdown",
   "metadata": {},
   "source": [
    "Iremos transformar os valores com o objetivo de diminuir a variancia  e melhorar a normalidade usando logaritmo"
   ]
  },
  {
   "cell_type": "code",
   "execution_count": null,
   "metadata": {},
   "outputs": [],
   "source": [
    "serie_log = np.log(serie_fechamento)\n",
    "serie_log.head()"
   ]
  },
  {
   "cell_type": "code",
   "execution_count": null,
   "metadata": {},
   "outputs": [],
   "source": [
    "stats.probplot(serie_log, dist='norm', plot=plt)\n",
    "plt.plot()"
   ]
  },
  {
   "cell_type": "code",
   "execution_count": null,
   "metadata": {},
   "outputs": [],
   "source": [
    "sns.histplot(serie_log, kde=True)"
   ]
  },
  {
   "cell_type": "code",
   "execution_count": null,
   "metadata": {},
   "outputs": [],
   "source": [
    "validacao_distribuicao(serie_log)"
   ]
  },
  {
   "cell_type": "markdown",
   "metadata": {},
   "source": [
    "    - Comentário: Mesmo efetuando transformação em logaritmo não foi possível obter um bom resultado"
   ]
  },
  {
   "cell_type": "markdown",
   "metadata": {},
   "source": [
    "Iremos elevar ao cubo para tentar obter uma melhor distribuição, usaremos o sign e abs para evitar o valores negativos"
   ]
  },
  {
   "cell_type": "code",
   "execution_count": null,
   "metadata": {},
   "outputs": [],
   "source": [
    "serie_ao_cubo = np.sign(serie_fechamento)*abs(serie_fechamento)**(1/3)\n",
    "serie_ao_cubo.head()"
   ]
  },
  {
   "cell_type": "code",
   "execution_count": null,
   "metadata": {},
   "outputs": [],
   "source": [
    "stats.probplot(serie_ao_cubo, dist='norm', plot=plt)\n",
    "plt.plot()"
   ]
  },
  {
   "cell_type": "code",
   "execution_count": null,
   "metadata": {},
   "outputs": [],
   "source": [
    "sns.histplot(serie_ao_cubo, kde=True)"
   ]
  },
  {
   "cell_type": "code",
   "execution_count": null,
   "metadata": {},
   "outputs": [],
   "source": [
    "validacao_distribuicao(serie_ao_cubo)"
   ]
  },
  {
   "cell_type": "markdown",
   "metadata": {},
   "source": [
    "    - Comentário: Não foi possível obter a distribuição normal usando serie ao cubo"
   ]
  },
  {
   "cell_type": "code",
   "execution_count": null,
   "metadata": {},
   "outputs": [],
   "source": [
    "serie_fechamento.isnull().value_counts()"
   ]
  },
  {
   "cell_type": "code",
   "execution_count": null,
   "metadata": {},
   "outputs": [],
   "source": [
    "serie_decomposta = seasonal_decompose(serie_fechamento, period=30)\n",
    "serie_decomposta.plot()\n",
    "plt.tight_layout()"
   ]
  },
  {
   "cell_type": "code",
   "execution_count": null,
   "metadata": {},
   "outputs": [],
   "source": [
    "serie_decomposta = seasonal_decompose(serie_fechamento, model=\"multiplicative\", period=252)\n",
    "serie_decomposta.plot()\n",
    "plt.tight_layout()"
   ]
  },
  {
   "cell_type": "code",
   "execution_count": null,
   "metadata": {},
   "outputs": [],
   "source": [
    "serie_decomposta.seasonal.iloc[-500:].plot()\n",
    "plt.show()"
   ]
  },
  {
   "cell_type": "markdown",
   "metadata": {},
   "source": [
    "Através da decomposição é possível notar que existe uma sazonalidade e uma tendencia de crescimento, que aparenta não ser estácionada.\n",
    "Para validar iremos um o test de KPSS e Dict Fuller"
   ]
  },
  {
   "cell_type": "markdown",
   "metadata": {},
   "source": [
    "Teste KPSS (Kwiatkowski-Phillips-Schmidt-Shin)\n",
    "\n",
    "Ho = não é estacionário: estatística do teste > valor crítico\n",
    "\n",
    "Ha = é estacionário:  estatística do teste < valor crítico"
   ]
  },
  {
   "cell_type": "code",
   "execution_count": 1224,
   "metadata": {},
   "outputs": [],
   "source": [
    "def validacao_kpss(serie):\n",
    "    print(colored(':: Validação KPSS (Kwiatkowski-Phillips-Schmidt-Shin) ::', 'light_blue', attrs=[\"bold\"]))\n",
    "    resultado = kpss(serie)\n",
    "    estatistica_teste = resultado[0]\n",
    "    p_valor = resultado[1]\n",
    "    valores_criticos  = resultado[3]\n",
    "    percentil_referencia = '5%'\n",
    "\n",
    "    print(f'Estatística do teste: {estatistica_teste:.4f}')\n",
    "    print(f'p-valor {p_valor:.4f}')\n",
    "    print('Valores Críticos:')\n",
    "    table = PrettyTable(['Criticidade', 'Valor'])\n",
    "\n",
    "    for chave, valor in valores_criticos.items():\n",
    "        table.add_row([chave, valor])\n",
    "    \n",
    "    print(table)\n",
    "\n",
    "    if estatistica_teste > valores_criticos[percentil_referencia]:\n",
    "        print(colored('>> Serie não estacionária <<', 'red'))\n",
    "    else:\n",
    "        print(colored('>> Série estácionaria <<', 'green'))\n"
   ]
  },
  {
   "cell_type": "code",
   "execution_count": null,
   "metadata": {},
   "outputs": [],
   "source": [
    "validacao_kpss(serie_fechamento)"
   ]
  },
  {
   "cell_type": "code",
   "execution_count": null,
   "metadata": {},
   "outputs": [],
   "source": [
    "plot_acf(serie_fechamento)\n",
    "plot_pacf(serie_fechamento)\n",
    "plt.show()"
   ]
  },
  {
   "cell_type": "markdown",
   "metadata": {},
   "source": [
    "# Aplicando Diferenciação"
   ]
  },
  {
   "cell_type": "markdown",
   "metadata": {},
   "source": [
    "- Descrever como funciona a difenciação"
   ]
  },
  {
   "cell_type": "code",
   "execution_count": null,
   "metadata": {},
   "outputs": [],
   "source": [
    "serie_fechamento_diff = serie_fechamento.diff()\n",
    "\n",
    "serie_fechamento_diff = serie_fechamento_diff.dropna()\n",
    "serie_fechamento_diff"
   ]
  },
  {
   "cell_type": "code",
   "execution_count": null,
   "metadata": {},
   "outputs": [],
   "source": [
    "serie_fechamento_diff.plot()"
   ]
  },
  {
   "cell_type": "code",
   "execution_count": null,
   "metadata": {},
   "outputs": [],
   "source": [
    "validacao_distribuicao(serie_fechamento_diff)"
   ]
  },
  {
   "cell_type": "code",
   "execution_count": null,
   "metadata": {},
   "outputs": [],
   "source": [
    "validacao_kpss(serie_fechamento_diff)"
   ]
  },
  {
   "cell_type": "code",
   "execution_count": 1231,
   "metadata": {},
   "outputs": [],
   "source": [
    "def validacao_adfuller(serie):\n",
    "  print(colored(':: Validação ADF (Dickey-Fuller) ::', 'light_blue', attrs=[\"bold\"]))\n",
    "  result_adf = adfuller(serie)\n",
    "  statistic_value = result_adf[0]\n",
    "  p_value = result_adf[1]\n",
    "  critical_values =  result_adf[4]\n",
    "  valor_referencia = 0.05\n",
    "\n",
    "  print(f\"ADF Statistic: {statistic_value}\")\n",
    "  print(f'Valor-p do Teste ADF: {p_value}')\n",
    "\n",
    "  table = PrettyTable(['Criticidade','Valor'])\n",
    "  for key, value in critical_values.items():\n",
    "    table.add_row([key, value])\n",
    "\n",
    "  print(table)\n",
    "\n",
    "  if p_value > valor_referencia:\n",
    "    print(colored('Não rejeitar a Hipótese Nula: a série não é estacionária\\n','red'))\n",
    "  else:\n",
    "    print(colored('Rejeitar a Hipótese Nula: a série é estacionária\\n','green'))"
   ]
  },
  {
   "cell_type": "code",
   "execution_count": null,
   "metadata": {},
   "outputs": [],
   "source": [
    "validacao_adfuller(serie_fechamento_diff)"
   ]
  },
  {
   "cell_type": "markdown",
   "metadata": {},
   "source": [
    "- Conseguimos através da diferenciação transformar a serie em estácionaria, agora podemos avaliar o comportamento da serie novamente"
   ]
  },
  {
   "cell_type": "code",
   "execution_count": null,
   "metadata": {},
   "outputs": [],
   "source": [
    "stats.probplot(serie_fechamento_diff, dist='norm', plot=plt)\n",
    "plt.plot()"
   ]
  },
  {
   "cell_type": "code",
   "execution_count": null,
   "metadata": {},
   "outputs": [],
   "source": [
    "sns.histplot(serie_fechamento_diff, kde=True)"
   ]
  },
  {
   "cell_type": "markdown",
   "metadata": {},
   "source": [
    "# Decomposição da serie Diferencial"
   ]
  },
  {
   "cell_type": "code",
   "execution_count": null,
   "metadata": {},
   "outputs": [],
   "source": [
    "serie_diff_decomposta = seasonal_decompose(serie_fechamento_diff, period=30)\n",
    "serie_diff_decomposta.plot()\n",
    "plt.tight_layout()"
   ]
  },
  {
   "cell_type": "code",
   "execution_count": null,
   "metadata": {},
   "outputs": [],
   "source": [
    "serie_diff_decomposta = seasonal_decompose(serie_fechamento_diff, period=365)\n",
    "serie_diff_decomposta.plot()\n",
    "plt.tight_layout()"
   ]
  },
  {
   "cell_type": "markdown",
   "metadata": {},
   "source": [
    "##  Avalição residuos"
   ]
  },
  {
   "cell_type": "code",
   "execution_count": null,
   "metadata": {},
   "outputs": [],
   "source": [
    "sns.histplot(serie_diff_decomposta.resid, kde=True)\n",
    "plt.show()"
   ]
  },
  {
   "cell_type": "markdown",
   "metadata": {},
   "source": [
    "- Conseguimos avaliar visualmente que o residuo aparenta ter uma distribuição bem proxima do normal com uma concentração de valores bem proximas a zero, porem a cauda indica possíveis outliers"
   ]
  },
  {
   "cell_type": "code",
   "execution_count": null,
   "metadata": {},
   "outputs": [],
   "source": [
    "plotar_medias_moveis(serie_fechamento_diff, 'Valores da bolsa de valores com média movel com diferenciação')"
   ]
  },
  {
   "cell_type": "code",
   "execution_count": null,
   "metadata": {},
   "outputs": [],
   "source": [
    "plotar_medias_moveis(serie_fechamento_diff.loc[pd.Timestamp('2020-01-02'):pd.Timestamp('2023-12-29')], 'Valores da bolsa de valores com média movel com diferenciação de 2020 a 2023')"
   ]
  },
  {
   "cell_type": "markdown",
   "metadata": {},
   "source": [
    "# Autocorrelação com diferenciação\n"
   ]
  },
  {
   "cell_type": "markdown",
   "metadata": {},
   "source": [
    "## A Importância da Autocorrelação após a Diferenciação em Séries Temporais\n",
    "\n",
    "**Entendendo a Diferenciação e a Autocorrelação**\n",
    "\n",
    "Antes de discutir a importância, vamos revisar brevemente esses conceitos:\n",
    "\n",
    "* **Diferenciação:** É uma técnica utilizada para tornar uma série temporal estacionária, removendo tendências ou sazonalidades. Ao calcular a diferença entre um valor e o anterior, eliminamos o componente de nível da série, tornando-a mais estável.\n",
    "* **Autocorrelação:** Mede a relação linear entre os valores de uma série em diferentes pontos no tempo. Em outras palavras, indica se os valores passados da série influenciam os valores futuros.\n",
    "\n",
    "**Por que a Autocorrelação após a Diferenciação é Importante?**\n",
    "\n",
    "1. **Identificação de Modelos:**\n",
    "   * **ARIMA:** A análise da autocorrelação (ACF) e da autocorrelação parcial (PACF) após a diferenciação é fundamental para identificar a ordem dos modelos ARIMA (AutoRegressive Integrated Moving Average). Esses modelos são amplamente utilizados para modelar e prever séries temporais.\n",
    "   * **Outros Modelos:** A autocorrelação também auxilia na escolha de outros modelos, como modelos de suavização exponencial ou modelos de decomposição de séries temporais.\n",
    "\n",
    "2. **Validação do Modelo:**\n",
    "   * **Resíduos:** Após ajustar um modelo, os resíduos (a diferença entre os valores observados e os valores previstos pelo modelo) devem ser não autocorrelacionados. A autocorrelação nos resíduos indica que o modelo não capturou toda a informação da série e pode ser melhorado.\n",
    "\n",
    "3. **Interpretação da Série:**\n",
    "   * **Padrões:** A autocorrelação pode revelar padrões na série, como ciclos ou tendências residuais que não foram completamente removidos pela diferenciação.\n",
    "   * **Causalidade:** Em alguns casos, a autocorrelação pode sugerir relações de causa e efeito entre os valores da série.\n",
    "\n",
    "**Em Resumo**\n",
    "\n",
    "A análise da autocorrelação após a diferenciação é uma etapa crucial na modelagem de séries temporais. Ela permite:\n",
    "\n",
    "* **Selecionar o modelo adequado:** Identificando a ordem dos modelos ARIMA ou outros modelos apropriados.\n",
    "* **Avaliar a qualidade do modelo:** Verificando se os resíduos são não autocorrelacionados.\n",
    "* **Compreender a natureza da série:** Revelando padrões e relações entre os valores.\n",
    "\n",
    "**Exemplo Prático:**\n",
    "\n",
    "Imagine uma série temporal de vendas de um produto. Após aplicar a diferenciação, você observa uma autocorrelação significativa nos primeiros lags da ACF. Isso sugere que os valores de vendas atuais estão fortemente relacionados aos valores dos últimos períodos. Com base nessa informação, você pode ajustar um modelo ARIMA para prever as vendas futuras.\n",
    "\n",
    "**Considerações Adicionais:**\n",
    "\n",
    "* **Estacionaridade:** A diferenciação é uma ferramenta importante para tornar a série estacionária, mas nem sempre é suficiente. Outras técnicas, como a transformação logarítmica, podem ser necessárias.\n",
    "* **Outros Testes:** Além da autocorrelação, outros testes, como o teste de Dickey-Fuller aumentado (ADF), podem ser utilizados para verificar a estacionariedade da série.\n",
    "* **Software:** Softwares estatísticos como R e Python oferecem funções para calcular a autocorrelação, ajustar modelos ARIMA e realizar outras análises de séries temporais.\n",
    "\n",
    "**Em Conclusão**\n",
    "\n",
    "A autocorrelação após a diferenciação é uma ferramenta poderosa para analisar e modelar séries temporais. Ao entender a importância dessa análise, você estará mais bem preparado para tomar decisões mais precisas e informadas com base nos dados.\n",
    "\n",
    "**Gostaria de aprofundar algum desses tópicos ou tem alguma outra pergunta?**\n",
    "\n",
    "**Possíveis tópicos para aprofundar:**\n",
    "\n",
    "* Cálculo da autocorrelação e autocorrelação parcial\n",
    "* Interpretação dos gráficos de ACF e PACF\n",
    "* Escolha da ordem dos modelos ARIMA\n",
    "* Outros modelos para séries temporais\n",
    "* Aplicações práticas da análise de séries temporais\n",
    "\n",
    "**Observação:** Se você tiver dados específicos, posso te auxiliar na análise. \n"
   ]
  },
  {
   "cell_type": "code",
   "execution_count": null,
   "metadata": {},
   "outputs": [],
   "source": [
    "plot_acf(serie_fechamento_diff)\n",
    "plot_pacf(serie_fechamento_diff)\n",
    "plt.show()"
   ]
  },
  {
   "cell_type": "markdown",
   "metadata": {},
   "source": [
    "- A autocorrelação da diferenciação apresentou um resultado satisfatórios, pois foi possivel notar que a partir do indicador 2 a correlação se manteve proximo ao intervalo de confiança, exceto por um item fora, porem aceitavel, assim como a correlação parcial tambem teve seus bon resultados considerendo-se que tambem a partir do 2 ponto se manteve dentro ou bem proximo do intervalo de confiança. Com esse resultado já é possível utilizar um modelo ARIMA com ordem 2 baseado nesse resultado"
   ]
  },
  {
   "cell_type": "markdown",
   "metadata": {},
   "source": [
    "# ARIMA NOVO"
   ]
  },
  {
   "cell_type": "code",
   "execution_count": null,
   "metadata": {},
   "outputs": [],
   "source": [
    "modelo_novo = auto_arima(serie_fechamento_diff, d=1, seasonal=True, m=12, stepwise=True)\n",
    "print(modelo_novo.summary())\n",
    "\n",
    "seasonal_order = modelo_novo.seasonal_order\n",
    "print(f'Detected Seasonal Order: {seasonal_order}')"
   ]
  },
  {
   "cell_type": "markdown",
   "metadata": {},
   "source": [
    "# Aplicação do Modelo ARIMA"
   ]
  },
  {
   "cell_type": "markdown",
   "metadata": {},
   "source": []
  },
  {
   "cell_type": "markdown",
   "metadata": {},
   "source": [
    "### AutoRegressive Integrated Moving Average (ARIMA)\n",
    "*É um modelo estatístico amplamente utilizado para analisar e prever séries temporais. As letras que compõem essa sigla possuem significados específicos:*\n",
    "* AR (AutoRegressiva): Indica que o valor da série em um determinado momento é uma função linear de seus valores anteriores. Ou seja, os valores passados influenciam os valores futuros.\n",
    "* I (Integrada): Refere-se ao processo de diferenciação aplicado à série temporal. A diferenciação é uma técnica utilizada para tornar a série estacionária, removendo tendências ou sazonalidades.\n",
    "* MA (Média Móvel): Indica que o valor da série em um determinado momento é uma função linear dos erros aleatórios (ruídos) ocorridos em momentos anteriores\n",
    "\n",
    "\n",
    "\n",
    "*Um modelo ARIMA é representado por três números: ARIMA(p,d,q).*\n",
    "* p: Ordem do processo autoregressivo. Indica o número de períodos anteriores que são usados para prever o valor atual.\n",
    "* d: Grau de diferenciação. Indica o número de vezes que a série é diferenciada para torná-la estacionária.\n",
    "* q: Ordem do processo de médias móveis. Indica o número de termos de erro anteriores que são incluídos no modelo."
   ]
  },
  {
   "cell_type": "markdown",
   "metadata": {},
   "source": [
    "- Considerando os valores encontrados nos resultados anterires, iremos começar testando o modelo com os seguintes valores p = 2, d = 1, e q = 1\n",
    "\n",
    "- sendo *p = 2*  que o valor atual vai depender dos 2 valores anteriores, *d = 1* porque queremos que ele efetue a diferenciação uma unica vez e  *q = 1*  que o erro atual depende do erro anterior"
   ]
  },
  {
   "cell_type": "code",
   "execution_count": null,
   "metadata": {},
   "outputs": [],
   "source": [
    "#melhor 2,1,2\n",
    "p,d,q =  2,1,2\n",
    "\n",
    "\n",
    "modelo_arima = ARIMA(serie_fechamento_diff, order = (p,d,q))"
   ]
  },
  {
   "cell_type": "code",
   "execution_count": null,
   "metadata": {},
   "outputs": [],
   "source": [
    "resultado = modelo_arima.fit()\n",
    "print(resultado.summary())"
   ]
  },
  {
   "cell_type": "code",
   "execution_count": null,
   "metadata": {},
   "outputs": [],
   "source": [
    "resid = resultado.resid\n",
    "model_garch = arch.arch_model(resid, mean='Zero', vol='GARCH', p=p, q=q).fit()"
   ]
  },
  {
   "cell_type": "code",
   "execution_count": null,
   "metadata": {},
   "outputs": [],
   "source": [
    "data_inicio, data_fim = '2024-03-12','2024-04-10'\n",
    "forecast_arima = resultado.forecast(steps=30)\n",
    "forecast_garch = model_garch.forecast(horizon=30)\n",
    "forecast = forecast_arima + np.sqrt(forecast_garch.variance.values[-1, :]) * np.random.normal(size=30)\n",
    "serie_prevista_garch = pd.Series(data=forecast.values, index=pd.date_range(data_inicio, data_fim))\n"
   ]
  },
  {
   "cell_type": "code",
   "execution_count": null,
   "metadata": {},
   "outputs": [],
   "source": [
    "plt.figure(figsize=(12, 6))\n",
    "plt.plot(serie_fechamento_diff, label='REAL')\n",
    "plt.plot(serie_prevista_garch, label='Previsão ARIMA + GARCH')\n",
    "plt.legend()\n",
    "plt.show()"
   ]
  },
  {
   "cell_type": "code",
   "execution_count": null,
   "metadata": {},
   "outputs": [],
   "source": [
    "\n",
    "plt.figure(figsize=(12, 6))\n",
    "plt.plot(serie_fechamento_diff.loc[pd.Timestamp('2023-01-02'):pd.Timestamp('2024-03-12')], label='REAL')\n",
    "plt.plot(serie_prevista_garch, label='Previsão ARIMA + GARCH')\n",
    "plt.legend()\n",
    "plt.show()"
   ]
  },
  {
   "cell_type": "code",
   "execution_count": 666,
   "metadata": {},
   "outputs": [],
   "source": []
  },
  {
   "cell_type": "code",
   "execution_count": null,
   "metadata": {},
   "outputs": [],
   "source": [
    "serie_fechamento_diff[-12:]"
   ]
  },
  {
   "cell_type": "code",
   "execution_count": null,
   "metadata": {},
   "outputs": [],
   "source": [
    "antigo = resultado.get_prediction(start=-12)\n",
    "predito = antigo.tvalues\n",
    "\n",
    "rmse_arima = root_mean_squared_error(serie_fechamento_diff[-12:].values, predito)\n",
    "rmse_arima"
   ]
  },
  {
   "cell_type": "code",
   "execution_count": null,
   "metadata": {},
   "outputs": [],
   "source": [
    "predito"
   ]
  },
  {
   "cell_type": "code",
   "execution_count": null,
   "metadata": {},
   "outputs": [],
   "source": [
    "serie_fechamento_diff"
   ]
  },
  {
   "cell_type": "code",
   "execution_count": null,
   "metadata": {},
   "outputs": [],
   "source": [
    "df_new = pd.DataFrame(serie_fechamento_diff[-12:],columns=['real'])\n",
    "df_new['predito'] = predito\n",
    "\n",
    "df_new\n",
    "\n",
    "plt.plot(df_new['real'])\n",
    "plt.plot(df_new['predito'])"
   ]
  },
  {
   "cell_type": "code",
   "execution_count": null,
   "metadata": {},
   "outputs": [],
   "source": [
    "config = antigo.conf_int()\n",
    "config"
   ]
  },
  {
   "cell_type": "code",
   "execution_count": null,
   "metadata": {},
   "outputs": [],
   "source": [
    "import yfinance as yf\n",
    "\n",
    "df_real_ibovesp = yf.download(tickers='^BVSP',interval='1d',start='2024-03-12',end='2024-04-10')\n",
    "\n",
    "df_real_ibovesp.head\n"
   ]
  },
  {
   "cell_type": "code",
   "execution_count": null,
   "metadata": {},
   "outputs": [],
   "source": [
    "df_real_ibovesp.info()"
   ]
  },
  {
   "cell_type": "code",
   "execution_count": null,
   "metadata": {},
   "outputs": [],
   "source": [
    "serie_real_ibovesp = pd.Series(data=df_real_ibovesp['Close'], index=df_real_ibovesp.index)\n",
    "serie_real_ibovesp  = serie_real_ibovesp / 1000 #Ajustando casas de\n",
    "serie_real_ibovesp.head()\n"
   ]
  },
  {
   "cell_type": "code",
   "execution_count": null,
   "metadata": {},
   "outputs": [],
   "source": [
    "import numpy as np\n",
    "import pandas as pd\n",
    "from statsmodels.tsa.stattools import acf, q_stat\n",
    "\n",
    "# ... (código para ajustar o modelo)\n",
    "y_true = serie_real_ibovesp.values\n",
    "\n",
    "# Calcular métricas\n",
    "rmse = np.sqrt(root_mean_squared_error(y_true, y_pred))\n",
    "mae = mean_absolute_error(y_true, y_pred)\n",
    "\n",
    "# Teste de Ljung-Box\n",
    "acf_resid = acf(model_garch.resid)\n",
    "q, pval = q_stat(acf_resid[1:], len(acf_resid[1:]))\n",
    "\n",
    "\n",
    "print(rmse)\n",
    "print(mae)\n",
    "\n",
    "#\n",
    "print(q,pval)\n",
    "\n",
    "# ... (outros testes e análises)"
   ]
  },
  {
   "cell_type": "code",
   "execution_count": null,
   "metadata": {},
   "outputs": [],
   "source": [
    "residuos_arima = resultado.resid\n",
    "residuos_arima"
   ]
  },
  {
   "cell_type": "code",
   "execution_count": null,
   "metadata": {},
   "outputs": [],
   "source": [
    "residuos_arima"
   ]
  },
  {
   "cell_type": "code",
   "execution_count": null,
   "metadata": {},
   "outputs": [],
   "source": [
    "residuos_arima.plot()\n",
    "plt.show()"
   ]
  },
  {
   "cell_type": "code",
   "execution_count": null,
   "metadata": {},
   "outputs": [],
   "source": [
    "residuos_arima"
   ]
  },
  {
   "cell_type": "code",
   "execution_count": null,
   "metadata": {},
   "outputs": [],
   "source": [
    "sns.histplot(residuos_arima, kde=True)\n",
    "plt.show()"
   ]
  },
  {
   "cell_type": "code",
   "execution_count": null,
   "metadata": {},
   "outputs": [],
   "source": [
    "validacao_distribuicao(residuos_arima)\n",
    "validacao_kpss(residuos_arima)\n",
    "validacao_adfuller(residuos_arima)"
   ]
  },
  {
   "cell_type": "code",
   "execution_count": null,
   "metadata": {},
   "outputs": [],
   "source": [
    "plot_acf(residuos_arima)\n",
    "plot_pacf(residuos_arima)\n",
    "plt.show()"
   ]
  },
  {
   "cell_type": "code",
   "execution_count": null,
   "metadata": {},
   "outputs": [],
   "source": [
    "residuos_arima"
   ]
  },
  {
   "cell_type": "code",
   "execution_count": null,
   "metadata": {},
   "outputs": [],
   "source": [
    "plt.plot(serie_fechamento_diff, label='Série Real')\n",
    "plt.plot(serie_fechamento_diff-residuos_arima,color='red', label='Resíduos', alpha=0.4)\n",
    "plt.legend(loc='best')\n",
    "plt.show()"
   ]
  },
  {
   "cell_type": "code",
   "execution_count": null,
   "metadata": {},
   "outputs": [],
   "source": [
    "serie_2020_a_2023 = serie_fechamento_diff.loc[pd.Timestamp('2020-01-02'):pd.Timestamp('2023-12-29')]\n",
    "residuos_arima_2020_a_2023 = residuos_arima.loc[pd.Timestamp('2020-01-02'):pd.Timestamp('2023-12-29')]\n",
    "plt.title('Real x Residuo do modelo arima de 2020 a 2023')\n",
    "plt.plot(serie_2020_a_2023, label='Série Real')\n",
    "plt.plot(serie_2020_a_2023-residuos_arima_2020_a_2023,color='red', label='Resíduos', alpha=0.8)\n",
    "plt.xlabel('Data')\n",
    "plt.ylabel('Valor')\n",
    "plt.legend(loc='best')\n",
    "plt.show()"
   ]
  },
  {
   "cell_type": "code",
   "execution_count": null,
   "metadata": {},
   "outputs": [],
   "source": [
    "resultado.fittedvalues"
   ]
  },
  {
   "cell_type": "markdown",
   "metadata": {},
   "source": [
    "# Previsão de valores"
   ]
  },
  {
   "cell_type": "code",
   "execution_count": null,
   "metadata": {},
   "outputs": [],
   "source": [
    "data_inicio = '2024-03-11'\n",
    "data_fim = '2024-04-12'\n",
    "previsao_arima = resultado.forecast(steps=len(pd.date_range(data_inicio, data_fim)))\n",
    "previsao_arima"
   ]
  },
  {
   "cell_type": "code",
   "execution_count": null,
   "metadata": {},
   "outputs": [],
   "source": [
    "serie_prevista = pd.Series(data=previsao_arima.values, index=pd.date_range(data_inicio, data_fim))\n",
    "serie_prevista"
   ]
  },
  {
   "cell_type": "code",
   "execution_count": null,
   "metadata": {},
   "outputs": [],
   "source": [
    "serie_prevista = pd.Series(data=previsao_arima.values, index=pd.date_range(data_inicio, data_fim))\n",
    "\n",
    "ultimo_ano = resultado.fittedvalues.loc[pd.Timestamp('2023-01-02'):pd.Timestamp('2024-03-11')]\n",
    "\n",
    "ultimo_ano.plot()\n",
    "\n",
    "serie_prevista.plot()\n",
    "\n"
   ]
  },
  {
   "cell_type": "markdown",
   "metadata": {},
   "source": [
    "# Auto Arima"
   ]
  },
  {
   "cell_type": "code",
   "execution_count": null,
   "metadata": {},
   "outputs": [],
   "source": [
    "modelo_auto_arima = auto_arima(serie_fechamento_diff, \n",
    "                               d=1, \n",
    "                               start_p=0, \n",
    "                               start_q=0, \n",
    "                               max_p=3, \n",
    "                               max_q=3, \n",
    "                               seasonal=True, \n",
    "                               m=6,\n",
    "                               D=1, \n",
    "                               start_P=1,\n",
    "                               max_Q=2,\n",
    "                               information_criterion='aic',\n",
    "                               trace=True,\n",
    "                               stepwise=True                               \n",
    "                               )"
   ]
  },
  {
   "cell_type": "code",
   "execution_count": null,
   "metadata": {},
   "outputs": [],
   "source": [
    "print(modelo_auto_arima.aic())"
   ]
  },
  {
   "cell_type": "code",
   "execution_count": null,
   "metadata": {},
   "outputs": [],
   "source": [
    "resultado_auto_arima = modelo_auto_arima.fit(serie_fechamento_diff)\n",
    "print(resultado_auto_arima.summary())"
   ]
  },
  {
   "cell_type": "code",
   "execution_count": null,
   "metadata": {},
   "outputs": [],
   "source": [
    "residuo_auto_arima  = resultado_auto_arima.resid\n",
    "residuo_auto_arima()"
   ]
  },
  {
   "cell_type": "code",
   "execution_count": null,
   "metadata": {},
   "outputs": [],
   "source": [
    "residuo_auto_arima().plot()\n",
    "plt.show()"
   ]
  },
  {
   "cell_type": "code",
   "execution_count": null,
   "metadata": {},
   "outputs": [],
   "source": [
    "stats.probplot(residuo_auto_arima(), dist='norm', plot=plt)\n",
    "plt.show()"
   ]
  },
  {
   "cell_type": "code",
   "execution_count": null,
   "metadata": {},
   "outputs": [],
   "source": [
    "sns.histplot(residuo_auto_arima(), kde=True)"
   ]
  },
  {
   "cell_type": "code",
   "execution_count": null,
   "metadata": {},
   "outputs": [],
   "source": [
    "validacao_distribuicao(residuo_auto_arima())\n",
    "validacao_adfuller(residuo_auto_arima())\n",
    "validacao_kpss(residuo_auto_arima())"
   ]
  },
  {
   "cell_type": "code",
   "execution_count": null,
   "metadata": {},
   "outputs": [],
   "source": [
    "plot_acf(residuo_auto_arima())\n",
    "plot_pacf(residuo_auto_arima())\n",
    "\n",
    "plt.show()"
   ]
  },
  {
   "cell_type": "code",
   "execution_count": null,
   "metadata": {},
   "outputs": [],
   "source": [
    "data_inicio = '2024-03-12'\n",
    "data_fim = '2024-04-12'\n",
    "previsao_auto_arima = resultado_auto_arima.predict(n_periods=len(pd.date_range(data_inicio, data_fim)))\n",
    "previsao_auto_arima\n"
   ]
  },
  {
   "cell_type": "code",
   "execution_count": null,
   "metadata": {},
   "outputs": [],
   "source": [
    "previsao_auto_arima.shape"
   ]
  },
  {
   "cell_type": "code",
   "execution_count": null,
   "metadata": {},
   "outputs": [],
   "source": [
    "index=pd.date_range(data_inicio, data_fim)\n",
    "index.shape\n"
   ]
  },
  {
   "cell_type": "code",
   "execution_count": 1284,
   "metadata": {},
   "outputs": [],
   "source": [
    "previsao_auto_arima = previsao_auto_arima**3"
   ]
  },
  {
   "cell_type": "code",
   "execution_count": 1285,
   "metadata": {},
   "outputs": [],
   "source": [
    "serie_prevista_auto_arima = pd.Series(data=previsao_auto_arima.values, index=pd.date_range(data_inicio, data_fim))"
   ]
  },
  {
   "cell_type": "code",
   "execution_count": null,
   "metadata": {},
   "outputs": [],
   "source": [
    "plotarSerie(serie_fechamento_diff)\n",
    "#plotarSerie(serie_fechamento-residuo_auto_arima(), legendas=['Serie Real','Residuo'])\n",
    "plotarSerie(serie_prevista_auto_arima, legendas=['Serie Real','Residuo'])\n",
    "plt.show()"
   ]
  },
  {
   "cell_type": "code",
   "execution_count": null,
   "metadata": {},
   "outputs": [],
   "source": [
    "previsao_auto_arima = resultado_auto_arima.predict(n_periods=30)\n",
    "previsao_auto_arima"
   ]
  },
  {
   "cell_type": "code",
   "execution_count": null,
   "metadata": {},
   "outputs": [],
   "source": [
    "previsao_auto_arima.plot()"
   ]
  },
  {
   "cell_type": "code",
   "execution_count": null,
   "metadata": {},
   "outputs": [],
   "source": [
    "modelo_auto_arima = auto_arima(serie_fechamento_diff, \n",
    "                               d=1, \n",
    "                               start_p=0, \n",
    "                               start_q=0, \n",
    "                               max_p=3, \n",
    "                               max_q=3, \n",
    "                               seasonal=True, \n",
    "                               m=6,\n",
    "                               D=1, \n",
    "                               start_P=1,\n",
    "                               max_Q=2,\n",
    "                               information_criterion='aic',\n",
    "                               trace=True               \n",
    "                               )"
   ]
  },
  {
   "cell_type": "code",
   "execution_count": null,
   "metadata": {},
   "outputs": [],
   "source": [
    "from statsmodels.tsa.statespace.sarimax import SARIMAX\n",
    "model_sar = SARIMAX(serie_fechamento_diff, order=(3,1,0), seasonal_order=(2,1,0,6))\n",
    "resultado_sarimax = model_sar.fit()\n"
   ]
  },
  {
   "cell_type": "code",
   "execution_count": null,
   "metadata": {},
   "outputs": [],
   "source": [
    "resultado_sarimax.summary()"
   ]
  },
  {
   "cell_type": "code",
   "execution_count": null,
   "metadata": {},
   "outputs": [],
   "source": [
    "predict = resultado_sarimax.get_prediction(start=-12)\n",
    "predict_media = predict.predicted_mean\n",
    "\n",
    "predict_media.plot()"
   ]
  },
  {
   "cell_type": "code",
   "execution_count": null,
   "metadata": {},
   "outputs": [],
   "source": [
    "predict.conf_int()"
   ]
  },
  {
   "cell_type": "markdown",
   "metadata": {},
   "source": [
    "# XBoost"
   ]
  },
  {
   "cell_type": "code",
   "execution_count": null,
   "metadata": {},
   "outputs": [],
   "source": [
    "serie_fechamento"
   ]
  },
  {
   "cell_type": "code",
   "execution_count": null,
   "metadata": {},
   "outputs": [],
   "source": [
    "df_clone"
   ]
  },
  {
   "cell_type": "code",
   "execution_count": 1296,
   "metadata": {},
   "outputs": [],
   "source": [
    "df_clone = df"
   ]
  },
  {
   "cell_type": "code",
   "execution_count": null,
   "metadata": {},
   "outputs": [],
   "source": []
  },
  {
   "cell_type": "code",
   "execution_count": 1297,
   "metadata": {},
   "outputs": [],
   "source": [
    "df_clone =  df_clone.set_index('Data')"
   ]
  },
  {
   "cell_type": "code",
   "execution_count": 1298,
   "metadata": {},
   "outputs": [],
   "source": [
    "data_final_treino = df_clone.reset_index().iloc[int(len(df) * (1 - 0.98))].values\n",
    "\n",
    "\n",
    "data_inicial_test = df_clone.reset_index().iloc[int(len(df) * (1 - 0.98))-1].values\n"
   ]
  },
  {
   "cell_type": "code",
   "execution_count": null,
   "metadata": {},
   "outputs": [],
   "source": [
    "data_final_treino = data_final_treino[1]\n",
    "data_final_treino"
   ]
  },
  {
   "cell_type": "code",
   "execution_count": null,
   "metadata": {},
   "outputs": [],
   "source": [
    "data_inicial_test = data_inicial_test[1]\n",
    "data_inicial_test"
   ]
  },
  {
   "cell_type": "code",
   "execution_count": null,
   "metadata": {},
   "outputs": [],
   "source": [
    "df[df.index > 99]"
   ]
  },
  {
   "cell_type": "code",
   "execution_count": null,
   "metadata": {},
   "outputs": [],
   "source": [
    "df[df.index < 100]"
   ]
  },
  {
   "cell_type": "code",
   "execution_count": 1303,
   "metadata": {},
   "outputs": [],
   "source": [
    "df['Data'] = pd.to_datetime(df['Data'], format='%d.%m.%Y')\n",
    "\n",
    "df = df.sort_values(by='Data', ascending=True)"
   ]
  },
  {
   "cell_type": "code",
   "execution_count": 1304,
   "metadata": {},
   "outputs": [],
   "source": [
    "dias_teste = 30"
   ]
  },
  {
   "cell_type": "code",
   "execution_count": null,
   "metadata": {},
   "outputs": [],
   "source": [
    "train, test = df.iloc[0:len(df)-dias_teste], df.iloc[len(df)-dias_teste+1:len(df)]\n",
    "data_test_inicio = test[\"Data\"].min()\n",
    "data_test_inicio = str(data_test_inicio).split(\" \")[0]\n",
    "data_test_fim = test[\"Data\"].max()\n",
    "data_test_fim = str(data_test_fim).split(\" \")[0]\n",
    "print(f'Treino de {train[\"Data\"].min()} até {train[\"Data\"].max()}')\n",
    "print(f'Test de {data_test_inicio} até {data_test_fim}')\n",
    "print(f'Tamanho treino {train.shape}')\n",
    "print(f'Tamanho treino {test.shape}')"
   ]
  },
  {
   "cell_type": "code",
   "execution_count": 1306,
   "metadata": {},
   "outputs": [],
   "source": [
    "def create_feature(data_frame):\n",
    "    data_frame['valor_fechamento']  = data_frame['Último']\n",
    "    data_frame['abertura']  = data_frame['Abertura']\n",
    "    data_frame['date'] = data_frame[\"Data\"]\n",
    "    data_frame['year'] = data_frame[\"Data\"].dt.year\n",
    "    data_frame['month'] = data_frame[\"Data\"].dt.month\n",
    "    data_frame['day'] = data_frame[\"Data\"].dt.day\n",
    "    data_frame['dayofweek'] = data_frame[\"Data\"].dt.dayofweek\n",
    "    return data_frame"
   ]
  },
  {
   "cell_type": "code",
   "execution_count": null,
   "metadata": {},
   "outputs": [],
   "source": [
    "train = create_feature(train)\n",
    "test = create_feature(test)"
   ]
  },
  {
   "cell_type": "code",
   "execution_count": null,
   "metadata": {},
   "outputs": [],
   "source": [
    "train.head()"
   ]
  },
  {
   "cell_type": "code",
   "execution_count": null,
   "metadata": {},
   "outputs": [],
   "source": [
    "test.head()"
   ]
  },
  {
   "cell_type": "code",
   "execution_count": 1310,
   "metadata": {},
   "outputs": [],
   "source": [
    "feature_names = [\"year\", \"month\", \"day\", \"dayofweek\",\"abertura\"]\n",
    "target = \"valor_fechamento\""
   ]
  },
  {
   "cell_type": "code",
   "execution_count": 1311,
   "metadata": {},
   "outputs": [],
   "source": [
    "X_train, y_train = train[feature_names], train[target]\n",
    "X_test, y_test = test[feature_names], test[target]"
   ]
  },
  {
   "cell_type": "code",
   "execution_count": 1312,
   "metadata": {},
   "outputs": [],
   "source": [
    "from  sklearn.metrics import recall_score"
   ]
  },
  {
   "cell_type": "code",
   "execution_count": null,
   "metadata": {},
   "outputs": [],
   "source": [
    "X_test"
   ]
  },
  {
   "cell_type": "code",
   "execution_count": null,
   "metadata": {},
   "outputs": [],
   "source": [
    "df_real_ibovesp = yf.download(tickers='^BVSP',interval='1d',start=data_test_inicio,end=data_test_fim) / 1000\n",
    "df_real_ibovesp"
   ]
  },
  {
   "cell_type": "code",
   "execution_count": 1315,
   "metadata": {},
   "outputs": [],
   "source": [
    "reg = xgb.XGBRegressor(objective=\"reg:squarederror\")\n",
    "reg.fit(X_train, y_train)\n",
    "\n",
    "preds = reg.predict(X_test)"
   ]
  },
  {
   "cell_type": "code",
   "execution_count": 1316,
   "metadata": {},
   "outputs": [],
   "source": [
    "def calculate_metrics(y_true, y_pred):\n",
    "    mae = mean_absolute_error(y_true, y_pred)\n",
    "    mse = root_mean_squared_error(y_true, y_pred)\n",
    "    mape = mean_absolute_percentage_error(y_true, y_pred) * 100\n",
    "    return mae, mse, mape\n",
    "\n",
    "\n",
    "def print_metrics(metrics):\n",
    "    mae, mse, mape = metrics\n",
    "    print(f\"MAE: {mae}\")\n",
    "    print(f\"MSE: {mse}\")\n",
    "    print(f\"MAPE: {mape:.2f} %\")"
   ]
  },
  {
   "cell_type": "code",
   "execution_count": null,
   "metadata": {},
   "outputs": [],
   "source": [
    "metrics = calculate_metrics(y_true=preds, y_pred=y_test.values)\n",
    "print_metrics(metrics)"
   ]
  },
  {
   "cell_type": "code",
   "execution_count": null,
   "metadata": {},
   "outputs": [],
   "source": [
    "mape = metrics[2]\n",
    "\n",
    "print(f'Acuracia {100 - mape:.2f} %')"
   ]
  },
  {
   "cell_type": "code",
   "execution_count": null,
   "metadata": {},
   "outputs": [],
   "source": [
    "X_test[\"data\"] = X_test[\"year\"].map(str) + \"-\" + X_test[\"month\"].map(str) + \"-\" + X_test[\"day\"].map(str)\n",
    "X_test[\"data\"] = pd.to_datetime(X_test['data'])\n",
    "X_test"
   ]
  },
  {
   "cell_type": "code",
   "execution_count": null,
   "metadata": {},
   "outputs": [],
   "source": [
    "\n",
    "pd.concat([df_real_ibovesp, pd.Series(data=preds,index=X_test['data'])], axis=1)"
   ]
  },
  {
   "cell_type": "code",
   "execution_count": null,
   "metadata": {},
   "outputs": [],
   "source": [
    "pd.Series(data=preds,index=X_test['data']).plot()\n",
    "df_real_ibovesp['Close'].plot()\n",
    "plt.show()\n",
    "#recall = recall_score(y_test, preds)\n",
    "\n",
    "#print(f\"Recall Score: {recall:.2f}\")"
   ]
  },
  {
   "cell_type": "markdown",
   "metadata": {},
   "source": [
    "# Prophet"
   ]
  },
  {
   "cell_type": "code",
   "execution_count": 1322,
   "metadata": {},
   "outputs": [],
   "source": [
    "train_prophet = train.rename(columns={\"date\":\"ds\", \"valor_fechamento\":\"y\"})\n",
    "test_prophet = test.rename(columns={\"date\":\"ds\", \"valor_fechamento\":\"y\"})"
   ]
  },
  {
   "cell_type": "code",
   "execution_count": null,
   "metadata": {},
   "outputs": [],
   "source": [
    "model_profet = Prophet(daily_seasonality=True)\n",
    "model_profet.add_regressor(\"abertura\")\n",
    "model_profet.fit(train_prophet)"
   ]
  },
  {
   "cell_type": "code",
   "execution_count": null,
   "metadata": {},
   "outputs": [],
   "source": [
    "future = model_profet.make_future_dataframe(periods=len(test))\n",
    "future"
   ]
  },
  {
   "cell_type": "code",
   "execution_count": null,
   "metadata": {},
   "outputs": [],
   "source": [
    "future['abertura'] = pd.concat([train['abertura'], test[\"abertura\"]], ignore_index=True)\n",
    "future"
   ]
  },
  {
   "cell_type": "code",
   "execution_count": null,
   "metadata": {},
   "outputs": [],
   "source": [
    "forecast_prophet = model_profet.predict(future)\n",
    "forecast_prophet.head()"
   ]
  },
  {
   "cell_type": "code",
   "execution_count": null,
   "metadata": {},
   "outputs": [],
   "source": [
    "preds_prophet = forecast_prophet[['ds','yhat']].tail(len(test))\n",
    "preds_prophet"
   ]
  },
  {
   "cell_type": "code",
   "execution_count": null,
   "metadata": {},
   "outputs": [],
   "source": [
    "preds_prophet = preds_prophet.set_index(\"ds\")\n",
    "preds_prophet"
   ]
  },
  {
   "cell_type": "code",
   "execution_count": null,
   "metadata": {},
   "outputs": [],
   "source": [
    "y_test_prophet = test_prophet.set_index('ds')['y']\n",
    "y_test_prophet.head()"
   ]
  },
  {
   "cell_type": "code",
   "execution_count": null,
   "metadata": {},
   "outputs": [],
   "source": [
    "metrics_pr = calculate_metrics(y_test_prophet, preds_prophet['yhat'])\n",
    "print('Prophet Metrics') \n",
    "print_metrics(metrics_pr)"
   ]
  },
  {
   "cell_type": "markdown",
   "metadata": {},
   "source": [
    "# Sarimax"
   ]
  },
  {
   "cell_type": "code",
   "execution_count": null,
   "metadata": {},
   "outputs": [],
   "source": []
  }
 ],
 "metadata": {
  "kernelspec": {
   "display_name": ".venv",
   "language": "python",
   "name": "python3"
  },
  "language_info": {
   "codemirror_mode": {
    "name": "ipython",
    "version": 3
   },
   "file_extension": ".py",
   "mimetype": "text/x-python",
   "name": "python",
   "nbconvert_exporter": "python",
   "pygments_lexer": "ipython3",
   "version": "3.12.4"
  }
 },
 "nbformat": 4,
 "nbformat_minor": 2
}
